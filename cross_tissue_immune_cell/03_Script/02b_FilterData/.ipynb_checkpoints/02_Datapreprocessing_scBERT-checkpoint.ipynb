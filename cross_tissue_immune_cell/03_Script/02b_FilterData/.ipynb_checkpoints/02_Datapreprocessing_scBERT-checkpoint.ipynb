{
 "cells": [
  {
   "cell_type": "markdown",
   "id": "093e4276-04c0-4857-8d57-8e40f719aad4",
   "metadata": {},
   "source": [
    "### Data preprocessing of scBERT (knowing that scGPT is required for variable gene selection)"
   ]
  },
  {
   "cell_type": "code",
   "execution_count": null,
   "id": "dd4bdb6e-364b-4123-9784-63dafbe258c8",
   "metadata": {},
   "outputs": [],
   "source": [
    "import os\n",
    "import scanpy as sc\n",
    "import numpy as np\n",
    "import pandas as pd\n",
    "import anndata\n",
    "import random"
   ]
  },
  {
   "cell_type": "code",
   "execution_count": 2,
   "id": "a48f5d55-a631-42dc-9a7e-2b0368904483",
   "metadata": {},
   "outputs": [],
   "source": [
    "def make_kfold(anndata_give,name_column,n_fold): \n",
    "    '''\n",
    "    Is a function that takes an Anndata as input, and creates a new column containing a group number. Equally distributed within each cell type.\n",
    "\n",
    "    Keyword arguments:\n",
    "    anndata_give -- Choose the anndata.\n",
    "    name_column -- Choose a name for the column with the fold group name\n",
    "    n_fold -- Choose the nuber of fold group.\n",
    "    override -- Autorise or not to overwrite a column existing and replace it by the new column (default False)\n",
    "    '''\n",
    "\n",
    "    # Check if the anndata provided is a real anndata.\n",
    "    assert type(anndata_give) == anndata._core.anndata.AnnData, \"Error : Type of '\" + anndata_give + \"' is not an anndata.\" \n",
    "    #Check if the name_column is a string\n",
    "    assert type(name_column) == str, \"Error : Column name is not a string.\"\n",
    "    # Check whether the n_fold supplied is a int.\n",
    "    assert type(n_fold) == int, \"Error : Type of n_fold is incorrect. Change it to a int.\"\n",
    "    \n",
    "    # Create a new column, which only have \"None\" inside\n",
    "    anndata_give.obs[name_column] = None \n",
    "\n",
    "    # Loop over the cell types to create fold groups in each of them\n",
    "    for cell_type in anndata_give.obs.celltype.unique():\n",
    "        # Retrieve the list of cells of the current cell type\n",
    "        cell_name_list = list(anndata_give.obs.index[anndata_give.obs.celltype == cell_type])\n",
    "        # Monitors whether the number of cells within the cell type is sufficient\n",
    "        if len(cell_name_list) < 20 :\n",
    "            print(\"Error : Not enought cell in :\", cell_type, \"\\nIt won't be taken into account for training and testing.\")\n",
    "            continue\n",
    "        # Shuffle the list of cells to change their order\n",
    "        random.shuffle(cell_name_list)\n",
    "        # Split the list of cells into the required number of groups\n",
    "        array_fold = np.array_split(np.array(cell_name_list),n_fold)\n",
    "        # Assign to each fold group the index of their group\n",
    "        for fold_index in range(len(array_fold)):\n",
    "            anndata_give.obs.loc[array_fold[fold_index] , name_column] = fold_index"
   ]
  },
  {
   "cell_type": "code",
   "execution_count": 3,
   "id": "c72bec5f-3e46-4e1a-a92c-8c8104995b5c",
   "metadata": {},
   "outputs": [],
   "source": [
    "def run_finetuning(anndata_give, name_column, n_fold, list_type_cell=None):\n",
    "    '''\n",
    "    run_finetuning is a function that takes as input 1 anndata , a column and a fold number or a list of fold numbers, with a list of cell types to be excluded for the training phase.\n",
    "    On output, the function provides 2 anndata, one for the test with the fold numbers chosen beforehand. And an anndata for training with the anndata not selected for the test phase and without the cell type list, if this has been supplied.\n",
    "    \n",
    "    Keyword arguments:\n",
    "    anndata_give -- Choose the anndata.\n",
    "    name_column -- Name of column with folds (group) name\n",
    "    n_fold -- Provide (by a value, or a list) the folds for the test anndata\n",
    "    list_type_cell -- List of cell types to be excluded from the training anndata. (default None)\n",
    "    '''\n",
    "\n",
    "    # Check if the anndata provided is a real anndata.\n",
    "    assert type(anndata_give) == anndata._core.anndata.AnnData, \"Error : Type of '\" + anndata_give + \"' is not an anndata.\" \n",
    "    #Check if the name_column is a string\n",
    "    assert type(name_column) == str, \"Error : Column name is not a string.\"\n",
    "    # Check that the given column name exists in the anndata\n",
    "    assert name_column in anndata_give.obs.columns , \"Error : Column name don't exists.\"\n",
    "    # Check whether the n_fold supplied can be read by the function.\n",
    "    assert type(n_fold) == int or type(n_fold) == list , \"Error : Type of n_fold is incorrect. Change it to a int or a list.\"\n",
    "    # Check if \"list_type_cell\" is not none and if it's a list\n",
    "    assert list_type_cell is None or type(list_type_cell) == list , \"Error : \" + list_type_cell + \" is not a list.\"\n",
    " \n",
    "    # Anndata creation block in case of a list.\n",
    "    if type(n_fold) == list :\n",
    "        # Go through the values in the list, and if one of them is not present in the column provided, display the error.\n",
    "        for index in n_fold :\n",
    "            assert anndata_give.obs[name_column].isin([index]).any() == True, \"Error: The fold number in your list is not in \" + name_column + \" column.\"   \n",
    "        # The values present in the list are scanned, separating the cells containing or not containing the fold number supplied as input. Either in the test or in the training.\n",
    "        anndata_test = anndata_give[[k in n_fold for k in anndata_give.obs[name_column]]]\n",
    "        # If no cell type list has been provided, then anndata_training returns only the groups that have not been given as input.\n",
    "        if list_type_cell is None :\n",
    "            anndata_training = anndata_give[[index not in n_fold for index in anndata_give.obs[name_column]]]\n",
    "        # If a list of cell types has been provided, then anndata_training returns only the groups that have not been given as input and without the cell types present in the list.\n",
    "        else :\n",
    "            anndata_training = anndata_give[[index not in list_type_cell for index in anndata_give.obs.celltype]] and anndata_give[[index not in n_fold for index in anndata_give.obs[name_column]]]\n",
    "            \n",
    "    \n",
    "    # Anndata creation block in case of a int.\n",
    "    if type(n_fold) == int :\n",
    "        # Check if the n_fold are not in colum provided, display the error.\n",
    "        assert anndata_give.obs[name_column].isin([n_fold]).any() == True , \"Error : The fold number is not present in \" + name_column + \" column.\"   \n",
    "        # Separate the cells contain in name_column the n_fold in a new anndata name 'anndata_test' and the other in a anndata_training.\n",
    "        anndata_test = anndata_give[anndata_give.obs[name_column] == n_fold]\n",
    "        # If no cell type list has been provided, then anndata_training returns only the groups that have not been given as input.\n",
    "        if list_type_cell is None :\n",
    "            anndata_training = anndata_give[anndata_give.obs[name_column] != n_fold]\n",
    "        # If a list of cell types has been provided, then anndata_training returns only the groups that have not been given as input and without the cell types present in the list.    \n",
    "        else :\n",
    "            anndata_training = anndata_give[[index not in list_type_cell for index in anndata_give.obs.celltype]] and anndata_give[anndata_give.obs[name_column] != n_fold] \n",
    "            \n",
    "    return anndata_test, anndata_training"
   ]
  },
  {
   "cell_type": "code",
   "execution_count": 4,
   "id": "ca8e6cf8-8c59-4e47-8f2c-113800cadeeb",
   "metadata": {},
   "outputs": [],
   "source": [
    "# Input path of the reference/raw data\n",
    "PATH_PROJECT = \"/mnt/DOSI/PLATEFORMES/BIOINFORMATIQUE/04_PROJECT/scLLM\"\n",
    "PATH_EXPERIMENT = os.path.join( PATH_PROJECT, \"cross_tissue_immune_cell\")\n",
    "PATH_EXPERIMENT_REFERENCE = os.path.join( PATH_EXPERIMENT, \"01_Reference\")\n",
    "PATH_EXPERIMENT_REFERENCE_EXTRA = os.path.join( PATH_EXPERIMENT_REFERENCE, \"00_Dataset\")\n",
    "PATH_EXPERIMENT_OUTPUT = os.path.join( PATH_EXPERIMENT, \"05_Output\")\n",
    "\n",
    "#File H5AD\n",
    "PATH_INPUT_FILE = os.path.join( PATH_EXPERIMENT_REFERENCE_EXTRA, \"cross_tissue_immune_cell.h5ad\")\n",
    "\n",
    "# File Variable Gene (do with preprocess from scGPT)\n",
    "PATH_INPUT_FILE_GENE = os.path.join( PATH_EXPERIMENT_OUTPUT, \"02a_GlobalHeterogenity\")\n",
    "PATH_INPUT_FILE_GENE_EXTRA = os.path.join( PATH_INPUT_FILE_GENE, \"Variable_Gene.csv\")\n",
    "\n",
    "# Output path of the pre processed dataset\n",
    "ANALYSIS_NAME = os.path.join( PATH_EXPERIMENT_OUTPUT, \"02b_FilterData\")\n",
    "ANALYSIS_NAME_EXTRA = os.path.join( ANALYSIS_NAME, \"Preprocess_Anndata_File_scBERT\")\n",
    "\n",
    "os.makedirs(os.path.dirname(PATH_OUTPUT_FILE_TEST_FOLD_0_ANNDATA), exist_ok = True)\n",
    "\n",
    "# Constant to filter the minimum number of cells per cell type for annotation\n",
    "MINIMAL_NUMBER_CELL_BY_TYPE = 40"
   ]
  },
  {
   "cell_type": "code",
   "execution_count": 5,
   "id": "90e99e6e-642d-4a33-9c12-e747b0c01c33",
   "metadata": {},
   "outputs": [],
   "source": [
    "# Read the reference/raw data\n",
    "dataset_anndata = sc.read_h5ad(PATH_INPUT_FILE)"
   ]
  },
  {
   "cell_type": "code",
   "execution_count": 6,
   "id": "292c4814-9630-4a3a-ae09-c64ace554de4",
   "metadata": {},
   "outputs": [],
   "source": [
    "# Read the variable gene file and save it as a data frame\n",
    "df_variable_gene = pd.read_csv(PATH_INPUT_FILE_GENE_EXTRA)\n",
    "\n",
    "# Delete the column containing the numbers (which is useless in our case).\n",
    "df_variable_gene = df_variable_gene.drop('Unnamed: 0', axis=1)\n",
    "\n",
    "# Creation of a list of variable genes from the previous data frame\n",
    "list_variable_gene = df_variable_gene['x'].tolist()"
   ]
  },
  {
   "cell_type": "code",
   "execution_count": 7,
   "id": "7c144133-206a-4bd5-abea-bf81a3549dd7",
   "metadata": {},
   "outputs": [],
   "source": [
    "# Rename the column cell_type by celltype (In this case : rename cell_type by celltype)\n",
    "dataset_anndata.obs.rename(columns={\"cell_type\" : \"celltype\"}, inplace=True)"
   ]
  },
  {
   "cell_type": "code",
   "execution_count": 8,
   "id": "e710bae4-613b-492a-9a99-6f4d8bfb31d9",
   "metadata": {},
   "outputs": [
    {
     "name": "stderr",
     "output_type": "stream",
     "text": [
      "/opt/conda/lib/python3.8/site-packages/anndata/_core/anndata.py:788: UserWarning: \n",
      "AnnData expects .var.index to contain strings, but got values like:\n",
      "    ['MIR1302-2HG', 'FAM138A', 'OR4F5', 'ENSG00000238009.6', 'ENSG00000239945.1']\n",
      "\n",
      "    Inferred to be: categorical\n",
      "\n",
      "  value_idx = self._prep_dim_index(value.index, attr)\n"
     ]
    }
   ],
   "source": [
    "# If this is not the case, we copy the previous index and put it in a column to avoid losing information.\n",
    "dataset_anndata.var[\"index_column\"] = dataset_anndata.var.index\n",
    "\n",
    "# We replace the var name\n",
    "dataset_anndata.var.rename(columns={\"feature_name\" : \"gene_name\"}, inplace=True)\n",
    "\n",
    "# Move the \"gene_name\" column to index. (This overwrites the previous column)\n",
    "dataset_anndata.var = dataset_anndata.var.set_index(\"gene_name\")"
   ]
  },
  {
   "cell_type": "code",
   "execution_count": 9,
   "id": "e8d9ef52-255d-4d63-8009-46f4be11c1bc",
   "metadata": {},
   "outputs": [
    {
     "name": "stdout",
     "output_type": "stream",
     "text": [
      "Warning: The cell type pro-B cell is removed from the dataset because it does not contain enough cells (40).\n"
     ]
    }
   ],
   "source": [
    "# Loop over the cell types to create fold groups in each of them\n",
    "for celltype in dataset_anndata.obs.celltype.unique():\n",
    "    # Retrieve the list of cells of the current cell type\n",
    "    cell_name_list = list(dataset_anndata.obs.index[dataset_anndata.obs.celltype == celltype])\n",
    "    # Monitors whether the number of cells within the cell type is sufficient\n",
    "    if len(cell_name_list) < MINIMAL_NUMBER_CELL_BY_TYPE :\n",
    "        # Remove the all the cell from the cell type\n",
    "        print(\"Warning: The cell type \", celltype, \" is removed from the dataset because it does not contain enough cells (\", MINIMAL_NUMBER_CELL_BY_TYPE, \").\", sep='')\n",
    "        dataset_anndata = dataset_anndata[~dataset_anndata.obs.celltype.str.contains(celltype)]"
   ]
  },
  {
   "cell_type": "code",
   "execution_count": 10,
   "id": "6bb5cbe0-74b5-4687-842f-bb64bc3536b6",
   "metadata": {},
   "outputs": [],
   "source": [
    "# Only genes in the list are kept in the anndata\n",
    "dataset_anndata = dataset_anndata[:,[gene for gene in list_variable_gene if gene in dataset_anndata.var.index]]"
   ]
  },
  {
   "cell_type": "code",
   "execution_count": 13,
   "id": "6c3bb4fb-8ced-4175-af14-d703c9893797",
   "metadata": {},
   "outputs": [
    {
     "name": "stderr",
     "output_type": "stream",
     "text": [
      "/tmp/ipykernel_8426/1107786422.py:21: ImplicitModificationWarning: Trying to modify attribute `.obs` of view, initializing view as actual.\n",
      "  anndata_give.obs[name_column] = None\n",
      "/opt/conda/lib/python3.8/site-packages/anndata/_core/anndata.py:121: ImplicitModificationWarning: Transforming to str index.\n",
      "  warnings.warn(\"Transforming to str index.\", ImplicitModificationWarning)\n"
     ]
    }
   ],
   "source": [
    "# We run the function to create multiple fold.\n",
    "make_kfold(dataset_anndata, \"K_Fold\", 5)"
   ]
  },
  {
   "cell_type": "code",
   "execution_count": 17,
   "id": "759550f9-7e71-477d-86c7-4c24a608bb0f",
   "metadata": {},
   "outputs": [],
   "source": [
    "# The output of this second preprocess data is for scBERT. He get every file in output to use them one per one after.\n",
    "for i in range (0,5):\n",
    "    dataset_anndata_test, dataset_anndata_training = run_finetuning(dataset_anndata, \"K_Fold\", i)\n",
    "    \n",
    "    dataset_anndata_test.obs.drop([\"K_Fold\"], inplace=True, axis = 1)\n",
    "    dataset_anndata_training.obs.drop([\"K_Fold\"], inplace=True, axis = 1)\n",
    "    \n",
    "    dataset_anndata_test.write_h5ad(os.path.join( ANALYSIS_NAME_EXTRA, \"Cross_Tissue_test_FOLD_\"+str(i)+\"_Preprocess.h5ad\"))\n",
    "    dataset_anndata_training.write_h5ad(os.path.join( ANALYSIS_NAME_EXTRA, \"Cross_Tissue_Training_FOLD_\"+str(i)+\"_Preprocess.h5ad\"))"
   ]
  }
 ],
 "metadata": {
  "kernelspec": {
   "display_name": "Python 3 (ipykernel)",
   "language": "python",
   "name": "python3"
  },
  "language_info": {
   "codemirror_mode": {
    "name": "ipython",
    "version": 3
   },
   "file_extension": ".py",
   "mimetype": "text/x-python",
   "name": "python",
   "nbconvert_exporter": "python",
   "pygments_lexer": "ipython3",
   "version": "3.10.11"
  }
 },
 "nbformat": 4,
 "nbformat_minor": 5
}
