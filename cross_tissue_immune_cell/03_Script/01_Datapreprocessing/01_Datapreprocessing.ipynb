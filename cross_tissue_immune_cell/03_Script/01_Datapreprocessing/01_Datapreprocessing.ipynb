{
 "cells": [
  {
   "cell_type": "code",
   "execution_count": 1,
   "id": "214a2465-fbf0-463e-badb-bf53b63e377e",
   "metadata": {},
   "outputs": [],
   "source": [
    "import os\n",
    "import scanpy as sc\n",
    "import numpy as np\n",
    "import pandas as pd\n",
    "import anndata\n",
    "import random"
   ]
  },
  {
   "cell_type": "code",
   "execution_count": 2,
   "id": "48fea115-9846-4349-bae1-37e60ff1c51e",
   "metadata": {},
   "outputs": [],
   "source": [
    "# Input path of the reference/raw data\n",
    "PATH_PROJECT = \"/mnt/DOSI/PLATEFORMES/BIOINFORMATIQUE/04_PROJECT/scLLM\"\n",
    "PATH_EXPERIMENT = os.path.join( PATH_PROJECT, \"cross_tissue_immune_cell\")\n",
    "PATH_EXPERIMENT_REFERENCE = os.path.join( PATH_EXPERIMENT, \"01_Reference\")\n",
    "PATH_EXPERIMENT_REFERENCE_EXTRA = os.path.join( PATH_EXPERIMENT_REFERENCE, \"00_Dataset\")\n",
    "PATH_EXPERIMENT_OUTPUT = os.path.join( PATH_EXPERIMENT, \"05_Output\")\n",
    "\n",
    "PATH_INPUT_FILE = os.path.join( PATH_EXPERIMENT_REFERENCE_EXTRA, \"cross_tissue_immune_cell.h5ad\")\n",
    "\n",
    "\n",
    "# Output path of the pre processed dataset\n",
    "ANALYSIS_NAME = \"01_Datapreprocessing\"\n",
    "EXTRA_ANALYSIS_NAME_ANNDATA = \"Preprocess_Anndata_File_scGPT\"\n",
    "PATH_ANALYSIS_OUTPUT_ANNDATA = os.path.join( PATH_EXPERIMENT_OUTPUT, ANALYSIS_NAME, EXTRA_ANALYSIS_NAME_ANNDATA)\n",
    "\n",
    "PATH_OUTPUT_FILE_ANNDATA = os.path.join( PATH_ANALYSIS_OUTPUT_ANNDATA, \"cross_tissue_immune_cell_Preprocess.h5ad\")\n",
    "os.makedirs(os.path.dirname(PATH_OUTPUT_FILE_ANNDATA), exist_ok = True)\n",
    "\n",
    "# Constant to filter the minimum number of cells per cell type for annotation\n",
    "MINIMAL_NUMBER_CELL_BY_TYPE = 40"
   ]
  },
  {
   "cell_type": "code",
   "execution_count": 3,
   "id": "f7cb9e7e-abe4-4be7-841c-58669eda27c6",
   "metadata": {},
   "outputs": [],
   "source": [
    "# Read the reference/raw data\n",
    "dataset_anndata = sc.read_h5ad(PATH_INPUT_FILE)"
   ]
  },
  {
   "cell_type": "code",
   "execution_count": 4,
   "id": "892954df-24e4-4741-bed1-e23998b6c515",
   "metadata": {},
   "outputs": [
    {
     "data": {
      "text/plain": [
       "Index(['donor_id', 'Predicted_labels_CellTypist', 'Majority_voting_CellTypist',\n",
       "       'Majority_voting_CellTypist_high', 'Manually_curated_celltype',\n",
       "       'assay_ontology_term_id', 'cell_type_ontology_term_id',\n",
       "       'development_stage_ontology_term_id', 'disease_ontology_term_id',\n",
       "       'self_reported_ethnicity_ontology_term_id', 'is_primary_data',\n",
       "       'organism_ontology_term_id', 'sex_ontology_term_id',\n",
       "       'tissue_ontology_term_id', 'suspension_type', 'tissue_type',\n",
       "       'cell_type', 'assay', 'disease', 'organism', 'sex', 'tissue',\n",
       "       'self_reported_ethnicity', 'development_stage', 'observation_joinid'],\n",
       "      dtype='object')"
      ]
     },
     "execution_count": 4,
     "metadata": {},
     "output_type": "execute_result"
    }
   ],
   "source": [
    "# Look to see if a column exists containing the name of the cell type. If this column exists, it must be written correctly. It must be \"celltype\".\n",
    "dataset_anndata.obs.columns"
   ]
  },
  {
   "cell_type": "code",
   "execution_count": 5,
   "id": "b69045a1-e6f0-4d13-9fed-956a7c65f460",
   "metadata": {},
   "outputs": [],
   "source": [
    "# Rename the column cell_type by celltype (In this case : rename cell_type by celltype)\n",
    "dataset_anndata.obs.rename(columns={\"cell_type\" : \"celltype\"}, inplace=True)"
   ]
  },
  {
   "cell_type": "markdown",
   "id": "c82f0613-ee63-4f2a-8546-6385206f8530",
   "metadata": {},
   "source": [
    "##### We check whether a column in \"var\" exists and contains the names of the genes ans if it's in index"
   ]
  },
  {
   "cell_type": "code",
   "execution_count": 6,
   "id": "3ee7ae70-2576-40a7-b9a4-bc18043607a9",
   "metadata": {},
   "outputs": [
    {
     "data": {
      "text/html": [
       "<div>\n",
       "<style scoped>\n",
       "    .dataframe tbody tr th:only-of-type {\n",
       "        vertical-align: middle;\n",
       "    }\n",
       "\n",
       "    .dataframe tbody tr th {\n",
       "        vertical-align: top;\n",
       "    }\n",
       "\n",
       "    .dataframe thead th {\n",
       "        text-align: right;\n",
       "    }\n",
       "</style>\n",
       "<table border=\"1\" class=\"dataframe\">\n",
       "  <thead>\n",
       "    <tr style=\"text-align: right;\">\n",
       "      <th></th>\n",
       "      <th>gene_symbols</th>\n",
       "      <th>feature_is_filtered</th>\n",
       "      <th>feature_name</th>\n",
       "      <th>feature_reference</th>\n",
       "      <th>feature_biotype</th>\n",
       "      <th>feature_length</th>\n",
       "    </tr>\n",
       "  </thead>\n",
       "  <tbody>\n",
       "    <tr>\n",
       "      <th>ENSG00000243485</th>\n",
       "      <td>MIR1302-2HG</td>\n",
       "      <td>False</td>\n",
       "      <td>MIR1302-2HG</td>\n",
       "      <td>NCBITaxon:9606</td>\n",
       "      <td>gene</td>\n",
       "      <td>1021</td>\n",
       "    </tr>\n",
       "    <tr>\n",
       "      <th>ENSG00000237613</th>\n",
       "      <td>FAM138A</td>\n",
       "      <td>True</td>\n",
       "      <td>FAM138A</td>\n",
       "      <td>NCBITaxon:9606</td>\n",
       "      <td>gene</td>\n",
       "      <td>1219</td>\n",
       "    </tr>\n",
       "    <tr>\n",
       "      <th>ENSG00000186092</th>\n",
       "      <td>OR4F5</td>\n",
       "      <td>True</td>\n",
       "      <td>OR4F5</td>\n",
       "      <td>NCBITaxon:9606</td>\n",
       "      <td>gene</td>\n",
       "      <td>2618</td>\n",
       "    </tr>\n",
       "    <tr>\n",
       "      <th>ENSG00000238009</th>\n",
       "      <td>AL627309.1</td>\n",
       "      <td>False</td>\n",
       "      <td>ENSG00000238009.6</td>\n",
       "      <td>NCBITaxon:9606</td>\n",
       "      <td>gene</td>\n",
       "      <td>3726</td>\n",
       "    </tr>\n",
       "    <tr>\n",
       "      <th>ENSG00000239945</th>\n",
       "      <td>AL627309.3</td>\n",
       "      <td>False</td>\n",
       "      <td>ENSG00000239945.1</td>\n",
       "      <td>NCBITaxon:9606</td>\n",
       "      <td>gene</td>\n",
       "      <td>1319</td>\n",
       "    </tr>\n",
       "    <tr>\n",
       "      <th>...</th>\n",
       "      <td>...</td>\n",
       "      <td>...</td>\n",
       "      <td>...</td>\n",
       "      <td>...</td>\n",
       "      <td>...</td>\n",
       "      <td>...</td>\n",
       "    </tr>\n",
       "    <tr>\n",
       "      <th>ENSG00000277836</th>\n",
       "      <td>AC141272.1</td>\n",
       "      <td>False</td>\n",
       "      <td>ENSG00000277836.1</td>\n",
       "      <td>NCBITaxon:9606</td>\n",
       "      <td>gene</td>\n",
       "      <td>288</td>\n",
       "    </tr>\n",
       "    <tr>\n",
       "      <th>ENSG00000278633</th>\n",
       "      <td>AC023491.2</td>\n",
       "      <td>False</td>\n",
       "      <td>ENSG00000278633.1</td>\n",
       "      <td>NCBITaxon:9606</td>\n",
       "      <td>gene</td>\n",
       "      <td>2404</td>\n",
       "    </tr>\n",
       "    <tr>\n",
       "      <th>ENSG00000276017</th>\n",
       "      <td>AC007325.1</td>\n",
       "      <td>False</td>\n",
       "      <td>ENSG00000276017.1</td>\n",
       "      <td>NCBITaxon:9606</td>\n",
       "      <td>gene</td>\n",
       "      <td>2404</td>\n",
       "    </tr>\n",
       "    <tr>\n",
       "      <th>ENSG00000278817</th>\n",
       "      <td>AC007325.4</td>\n",
       "      <td>False</td>\n",
       "      <td>ENSG00000278817.1</td>\n",
       "      <td>NCBITaxon:9606</td>\n",
       "      <td>gene</td>\n",
       "      <td>1213</td>\n",
       "    </tr>\n",
       "    <tr>\n",
       "      <th>ENSG00000277196</th>\n",
       "      <td>AC007325.2</td>\n",
       "      <td>False</td>\n",
       "      <td>ENSG00000277196.4</td>\n",
       "      <td>NCBITaxon:9606</td>\n",
       "      <td>gene</td>\n",
       "      <td>2405</td>\n",
       "    </tr>\n",
       "  </tbody>\n",
       "</table>\n",
       "<p>36398 rows × 6 columns</p>\n",
       "</div>"
      ],
      "text/plain": [
       "                gene_symbols  feature_is_filtered       feature_name  \\\n",
       "ENSG00000243485  MIR1302-2HG                False        MIR1302-2HG   \n",
       "ENSG00000237613      FAM138A                 True            FAM138A   \n",
       "ENSG00000186092        OR4F5                 True              OR4F5   \n",
       "ENSG00000238009   AL627309.1                False  ENSG00000238009.6   \n",
       "ENSG00000239945   AL627309.3                False  ENSG00000239945.1   \n",
       "...                      ...                  ...                ...   \n",
       "ENSG00000277836   AC141272.1                False  ENSG00000277836.1   \n",
       "ENSG00000278633   AC023491.2                False  ENSG00000278633.1   \n",
       "ENSG00000276017   AC007325.1                False  ENSG00000276017.1   \n",
       "ENSG00000278817   AC007325.4                False  ENSG00000278817.1   \n",
       "ENSG00000277196   AC007325.2                False  ENSG00000277196.4   \n",
       "\n",
       "                feature_reference feature_biotype feature_length  \n",
       "ENSG00000243485    NCBITaxon:9606            gene           1021  \n",
       "ENSG00000237613    NCBITaxon:9606            gene           1219  \n",
       "ENSG00000186092    NCBITaxon:9606            gene           2618  \n",
       "ENSG00000238009    NCBITaxon:9606            gene           3726  \n",
       "ENSG00000239945    NCBITaxon:9606            gene           1319  \n",
       "...                           ...             ...            ...  \n",
       "ENSG00000277836    NCBITaxon:9606            gene            288  \n",
       "ENSG00000278633    NCBITaxon:9606            gene           2404  \n",
       "ENSG00000276017    NCBITaxon:9606            gene           2404  \n",
       "ENSG00000278817    NCBITaxon:9606            gene           1213  \n",
       "ENSG00000277196    NCBITaxon:9606            gene           2405  \n",
       "\n",
       "[36398 rows x 6 columns]"
      ]
     },
     "execution_count": 6,
     "metadata": {},
     "output_type": "execute_result"
    }
   ],
   "source": [
    "dataset_anndata.var"
   ]
  },
  {
   "cell_type": "code",
   "execution_count": 7,
   "id": "4af188fa-50cf-4cd4-87f2-97750829a627",
   "metadata": {},
   "outputs": [
    {
     "name": "stderr",
     "output_type": "stream",
     "text": [
      "/opt/conda/lib/python3.10/site-packages/anndata/_core/anndata.py:767: UserWarning: \n",
      "AnnData expects .var.index to contain strings, but got values like:\n",
      "    ['MIR1302-2HG', 'FAM138A', 'OR4F5', 'ENSG00000238009.6', 'ENSG00000239945.1']\n",
      "\n",
      "    Inferred to be: categorical\n",
      "\n",
      "  value_idx = self._prep_dim_index(value.index, attr)\n"
     ]
    }
   ],
   "source": [
    "# If this is not the case, we copy the previous index and put it in a column to avoid losing information.\n",
    "dataset_anndata.var[\"index_column\"] = dataset_anndata.var.index\n",
    "\n",
    "# We repalce the column name by gene_name to be understood by scGPT\n",
    "dataset_anndata.var.rename(columns={\"feature_name\" : \"gene_name\"}, inplace=True)\n",
    "\n",
    "# Move the \"gene_name\" column to index. (This overwrites the previous column)\n",
    "dataset_anndata.var = dataset_anndata.var.set_index(\"gene_name\")\n",
    "\n",
    "# We also need the column gene_name inside the column and not only index\n",
    "dataset_anndata.var[\"gene_name\"] = dataset_anndata.var.index"
   ]
  },
  {
   "cell_type": "code",
   "execution_count": 9,
   "id": "a42ef554-425a-48dc-a912-19f2b59e7b7c",
   "metadata": {},
   "outputs": [
    {
     "name": "stdout",
     "output_type": "stream",
     "text": [
      "Warning: The cell type pro-B cell is removed from the dataset because it does not contain enough cells (40).\n"
     ]
    }
   ],
   "source": [
    "# Loop over the cell types to create fold groups in each of them\n",
    "for celltype in dataset_anndata.obs.celltype.unique():\n",
    "    # Retrieve the list of cells of the current cell type\n",
    "    cell_name_list = list(dataset_anndata.obs.index[dataset_anndata.obs.celltype == celltype])\n",
    "    # Monitors whether the number of cells within the cell type is sufficient\n",
    "    if len(cell_name_list) < MINIMAL_NUMBER_CELL_BY_TYPE :\n",
    "        # Remove the all the cell from the cell type\n",
    "        print(\"Warning: The cell type \", celltype, \" is removed from the dataset because it does not contain enough cells (\", MINIMAL_NUMBER_CELL_BY_TYPE, \").\", sep='')\n",
    "        dataset_anndata = dataset_anndata[~dataset_anndata.obs.celltype.str.contains(celltype)]"
   ]
  },
  {
   "cell_type": "code",
   "execution_count": 15,
   "id": "50624960-1d10-4c6f-b198-54c1cc367528",
   "metadata": {},
   "outputs": [],
   "source": [
    "# We write a new file containing the pre-processed data. \n",
    "dataset_anndata.write_h5ad(PATH_OUTPUT_FILE_ANNDATA)"
   ]
  },
  {
   "cell_type": "markdown",
   "id": "657e8038-d19f-404a-a509-ff535b2007d3",
   "metadata": {},
   "source": [
    "## R MATRIX : For selection variable gene"
   ]
  },
  {
   "cell_type": "code",
   "execution_count": 10,
   "id": "15a03f94-3595-43f4-867f-bb4c3902adce",
   "metadata": {},
   "outputs": [],
   "source": [
    "# Create the file output\n",
    "from scipy import io\n",
    "\n",
    "EXTRA_ANALYSIS_NAME_MATRIX = \"Matrix_Files\"\n",
    "PATH_OUTPUT_FILE_MATRIX = os.path.join(PATH_EXPERIMENT_OUTPUT, ANALYSIS_NAME, EXTRA_ANALYSIS_NAME_MATRIX)\n",
    "\n",
    "# Output path of the pre processed dataset\n",
    "os.makedirs(PATH_OUTPUT_FILE_MATRIX, exist_ok = True)"
   ]
  },
  {
   "cell_type": "code",
   "execution_count": 11,
   "id": "542f6bba-0ec8-46f1-bdc6-b29b5cdbe1e8",
   "metadata": {},
   "outputs": [],
   "source": [
    "# Keep the bacrodes name (so name of cell)\n",
    "with open(os.path.join(PATH_OUTPUT_FILE_MATRIX) + '/barcodes.tsv', 'w') as f:\n",
    "    for item in dataset_anndata.obs_names:\n",
    "        f.write(item + '\\n')"
   ]
  },
  {
   "cell_type": "code",
   "execution_count": 12,
   "id": "ace2ed4c-0692-4c72-bbae-975506892910",
   "metadata": {},
   "outputs": [],
   "source": [
    "# Keep the feture\n",
    "with open(os.path.join(PATH_OUTPUT_FILE_MATRIX) + '/features.tsv', 'w') as f:\n",
    "    for item in ['\\t'.join([x,x,'Gene Expression']) for x in dataset_anndata.var_names]:\n",
    "        f.write(item + '\\n')"
   ]
  },
  {
   "cell_type": "code",
   "execution_count": 20,
   "id": "989a8821-f5bf-42b9-ae9b-63c6519af69a",
   "metadata": {},
   "outputs": [],
   "source": [
    "io.mmwrite(os.path.join(PATH_OUTPUT_FILE_MATRIX) + '/matrix.mtx', dataset_anndata.X.T)"
   ]
  },
  {
   "cell_type": "markdown",
   "id": "650f784c-4267-4222-80ed-def1ebc5967f",
   "metadata": {},
   "source": [
    "#### Need to do a gzip of every file currently in the reperotry (before enter the cell above) | (gzip root_file/Matrix_Files/*)"
   ]
  },
  {
   "cell_type": "code",
   "execution_count": 13,
   "id": "26a85b08-4df3-412d-b0a8-9a1530e07a42",
   "metadata": {},
   "outputs": [],
   "source": [
    "dataset_anndata.obs.to_csv(os.path.join(PATH_OUTPUT_FILE_MATRIX) + '/metadata.csv') "
   ]
  }
 ],
 "metadata": {
  "kernelspec": {
   "display_name": "Python 3 (ipykernel)",
   "language": "python",
   "name": "python3"
  },
  "language_info": {
   "codemirror_mode": {
    "name": "ipython",
    "version": 3
   },
   "file_extension": ".py",
   "mimetype": "text/x-python",
   "name": "python",
   "nbconvert_exporter": "python",
   "pygments_lexer": "ipython3",
   "version": "3.10.11"
  }
 },
 "nbformat": 4,
 "nbformat_minor": 5
}
