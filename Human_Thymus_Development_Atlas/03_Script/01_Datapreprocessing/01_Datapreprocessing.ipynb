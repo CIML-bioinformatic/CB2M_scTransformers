{
 "cells": [
  {
   "cell_type": "markdown",
   "id": "91db25ab-c338-4a44-996f-75bc19bc3a8b",
   "metadata": {},
   "source": [
    "#### Pre-processing data to optimize the use of scGPT"
   ]
  },
  {
   "cell_type": "code",
   "execution_count": null,
   "id": "0fe6426a-2b8b-46ca-9370-a2bbd3bdb79c",
   "metadata": {},
   "outputs": [],
   "source": [
    "import os\n",
    "import scanpy as sc\n",
    "import numpy as np\n",
    "import pandas as pd\n",
    "import anndata\n",
    "import random"
   ]
  },
  {
   "cell_type": "code",
   "execution_count": 3,
   "id": "72beae5d-9bbb-4e2a-9ca0-e26f57a4702b",
   "metadata": {},
   "outputs": [],
   "source": [
    "# Input path of the reference/raw data\n",
    "PATH_PROJECT = \"/mnt/DOSI/PLATEFORMES/BIOINFORMATIQUE/04_PROJECT/scLLM\"\n",
    "PATH_EXPERIMENT = os.path.join( PATH_PROJECT, \"Human_Thymus_Development_Atlas\")\n",
    "PATH_EXPERIMENT_REFERENCE = os.path.join( PATH_EXPERIMENT, \"01_Reference\")\n",
    "PATH_EXPERIMENT_REFERENCE_EXTRA = os.path.join( PATH_EXPERIMENT_REFERENCE, \"00_Dataset\")\n",
    "PATH_EXPERIMENT_OUTPUT = os.path.join( PATH_EXPERIMENT, \"05_Output\")\n",
    "\n",
    "PATH_INPUT_FILE = os.path.join( PATH_EXPERIMENT_REFERENCE_EXTRA, \"Human_Thymus_Development_Atlas.h5ad\")\n",
    "\n",
    "\n",
    "# Output path of the pre processed dataset\n",
    "ANALYSIS_NAME = \"01_Datapreprocessing\"\n",
    "EXTRA_ANALYSIS_NAME_ANNDATA = \"Preprocess_Anndata_File_scGPT\"\n",
    "PATH_ANALYSIS_OUTPUT_ANNDATA = os.path.join( PATH_EXPERIMENT_OUTPUT, ANALYSIS_NAME, EXTRA_ANALYSIS_NAME_ANNDATA)\n",
    "\n",
    "PATH_OUTPUT_FILE_ANNDATA = os.path.join( PATH_ANALYSIS_OUTPUT_ANNDATA, \"Human_Thymus_Development_Atlas_Preprocess.h5ad\")\n",
    "os.makedirs(os.path.dirname(PATH_OUTPUT_FILE_ANNDATA), exist_ok = True)\n",
    "\n",
    "# Constant to filter the minimum number of cells per cell type for annotation\n",
    "MINIMAL_NUMBER_CELL_BY_TYPE = 40"
   ]
  },
  {
   "cell_type": "code",
   "execution_count": 4,
   "id": "2aa6981d-2f74-4573-92d7-1ae79e1a9e10",
   "metadata": {},
   "outputs": [],
   "source": [
    "# Read the reference/raw data\n",
    "dataset_anndata = sc.read_h5ad(PATH_INPUT_FILE)"
   ]
  },
  {
   "cell_type": "code",
   "execution_count": 5,
   "id": "1c4e9132-7cbe-457a-80ed-a1307a62fa66",
   "metadata": {},
   "outputs": [
    {
     "data": {
      "text/plain": [
       "Index(['assay_ontology_term_id', 'cell_type_ontology_term_id',\n",
       "       'development_stage_ontology_term_id', 'disease_ontology_term_id',\n",
       "       'self_reported_ethnicity_ontology_term_id', 'is_primary_data',\n",
       "       'organism_ontology_term_id', 'sex_ontology_term_id',\n",
       "       'tissue_ontology_term_id', 'Sample', 'n_counts', 'n_genes', 'donor_id',\n",
       "       'sort', 'method', 'file', 'mito', 'doublet_scores',\n",
       "       'predicted_doublets', 'suspension_type', 'tissue_type', 'cell_type',\n",
       "       'assay', 'disease', 'organism', 'sex', 'tissue',\n",
       "       'self_reported_ethnicity', 'development_stage', 'observation_joinid'],\n",
       "      dtype='object')"
      ]
     },
     "execution_count": 5,
     "metadata": {},
     "output_type": "execute_result"
    }
   ],
   "source": [
    "# Look to see if a column exists containing the name of the cell type. If this column exists, it must be written correctly. It must be \"celltype\".\n",
    "dataset_anndata.obs.columns"
   ]
  },
  {
   "cell_type": "code",
   "execution_count": 6,
   "id": "12f8cb65-1eb4-4366-9e14-05f0831926b6",
   "metadata": {},
   "outputs": [],
   "source": [
    "# Rename the column cell_type by celltype (In this case : rename cell_type by celltype)\n",
    "dataset_anndata.obs.rename(columns={\"cell_type\" : \"celltype\"}, inplace=True)"
   ]
  },
  {
   "cell_type": "markdown",
   "id": "8ddf9b68-b252-44e0-a17e-07af9fab0343",
   "metadata": {},
   "source": [
    "##### We check whether a column in \"var\" exists and contains the names of the genes ans if it's in index"
   ]
  },
  {
   "cell_type": "code",
   "execution_count": 7,
   "id": "87a6c34b-12be-43fb-be98-d51bbd70b48f",
   "metadata": {},
   "outputs": [
    {
     "data": {
      "text/html": [
       "<div>\n",
       "<style scoped>\n",
       "    .dataframe tbody tr th:only-of-type {\n",
       "        vertical-align: middle;\n",
       "    }\n",
       "\n",
       "    .dataframe tbody tr th {\n",
       "        vertical-align: top;\n",
       "    }\n",
       "\n",
       "    .dataframe thead th {\n",
       "        text-align: right;\n",
       "    }\n",
       "</style>\n",
       "<table border=\"1\" class=\"dataframe\">\n",
       "  <thead>\n",
       "    <tr style=\"text-align: right;\">\n",
       "      <th></th>\n",
       "      <th>feature_is_filtered</th>\n",
       "      <th>feature_name</th>\n",
       "      <th>feature_reference</th>\n",
       "      <th>feature_biotype</th>\n",
       "      <th>feature_length</th>\n",
       "    </tr>\n",
       "    <tr>\n",
       "      <th>feature_ID</th>\n",
       "      <th></th>\n",
       "      <th></th>\n",
       "      <th></th>\n",
       "      <th></th>\n",
       "      <th></th>\n",
       "    </tr>\n",
       "  </thead>\n",
       "  <tbody>\n",
       "    <tr>\n",
       "      <th>ENSG00000000003</th>\n",
       "      <td>False</td>\n",
       "      <td>TSPAN6</td>\n",
       "      <td>NCBITaxon:9606</td>\n",
       "      <td>gene</td>\n",
       "      <td>4536</td>\n",
       "    </tr>\n",
       "    <tr>\n",
       "      <th>ENSG00000000005</th>\n",
       "      <td>False</td>\n",
       "      <td>TNMD</td>\n",
       "      <td>NCBITaxon:9606</td>\n",
       "      <td>gene</td>\n",
       "      <td>1476</td>\n",
       "    </tr>\n",
       "    <tr>\n",
       "      <th>ENSG00000000419</th>\n",
       "      <td>False</td>\n",
       "      <td>DPM1</td>\n",
       "      <td>NCBITaxon:9606</td>\n",
       "      <td>gene</td>\n",
       "      <td>9276</td>\n",
       "    </tr>\n",
       "    <tr>\n",
       "      <th>ENSG00000000457</th>\n",
       "      <td>False</td>\n",
       "      <td>SCYL3</td>\n",
       "      <td>NCBITaxon:9606</td>\n",
       "      <td>gene</td>\n",
       "      <td>6883</td>\n",
       "    </tr>\n",
       "    <tr>\n",
       "      <th>ENSG00000000460</th>\n",
       "      <td>False</td>\n",
       "      <td>C1orf112</td>\n",
       "      <td>NCBITaxon:9606</td>\n",
       "      <td>gene</td>\n",
       "      <td>5970</td>\n",
       "    </tr>\n",
       "    <tr>\n",
       "      <th>...</th>\n",
       "      <td>...</td>\n",
       "      <td>...</td>\n",
       "      <td>...</td>\n",
       "      <td>...</td>\n",
       "      <td>...</td>\n",
       "    </tr>\n",
       "    <tr>\n",
       "      <th>ENSG00000283096</th>\n",
       "      <td>False</td>\n",
       "      <td>RP11-157J13.1</td>\n",
       "      <td>NCBITaxon:9606</td>\n",
       "      <td>gene</td>\n",
       "      <td>1259</td>\n",
       "    </tr>\n",
       "    <tr>\n",
       "      <th>ENSG00000283103</th>\n",
       "      <td>False</td>\n",
       "      <td>LLNLR-245B6.1</td>\n",
       "      <td>NCBITaxon:9606</td>\n",
       "      <td>gene</td>\n",
       "      <td>4467</td>\n",
       "    </tr>\n",
       "    <tr>\n",
       "      <th>ENSG00000283117</th>\n",
       "      <td>False</td>\n",
       "      <td>MGC4859</td>\n",
       "      <td>NCBITaxon:9606</td>\n",
       "      <td>gene</td>\n",
       "      <td>3118</td>\n",
       "    </tr>\n",
       "    <tr>\n",
       "      <th>ENSG00000283118</th>\n",
       "      <td>False</td>\n",
       "      <td>RP11-107E5.4</td>\n",
       "      <td>NCBITaxon:9606</td>\n",
       "      <td>gene</td>\n",
       "      <td>644</td>\n",
       "    </tr>\n",
       "    <tr>\n",
       "      <th>ENSG00000283125</th>\n",
       "      <td>False</td>\n",
       "      <td>RP11-299P2.2</td>\n",
       "      <td>NCBITaxon:9606</td>\n",
       "      <td>gene</td>\n",
       "      <td>547</td>\n",
       "    </tr>\n",
       "  </tbody>\n",
       "</table>\n",
       "<p>32922 rows × 5 columns</p>\n",
       "</div>"
      ],
      "text/plain": [
       "                 feature_is_filtered   feature_name feature_reference  \\\n",
       "feature_ID                                                              \n",
       "ENSG00000000003                False         TSPAN6    NCBITaxon:9606   \n",
       "ENSG00000000005                False           TNMD    NCBITaxon:9606   \n",
       "ENSG00000000419                False           DPM1    NCBITaxon:9606   \n",
       "ENSG00000000457                False          SCYL3    NCBITaxon:9606   \n",
       "ENSG00000000460                False       C1orf112    NCBITaxon:9606   \n",
       "...                              ...            ...               ...   \n",
       "ENSG00000283096                False  RP11-157J13.1    NCBITaxon:9606   \n",
       "ENSG00000283103                False  LLNLR-245B6.1    NCBITaxon:9606   \n",
       "ENSG00000283117                False        MGC4859    NCBITaxon:9606   \n",
       "ENSG00000283118                False   RP11-107E5.4    NCBITaxon:9606   \n",
       "ENSG00000283125                False   RP11-299P2.2    NCBITaxon:9606   \n",
       "\n",
       "                feature_biotype feature_length  \n",
       "feature_ID                                      \n",
       "ENSG00000000003            gene           4536  \n",
       "ENSG00000000005            gene           1476  \n",
       "ENSG00000000419            gene           9276  \n",
       "ENSG00000000457            gene           6883  \n",
       "ENSG00000000460            gene           5970  \n",
       "...                         ...            ...  \n",
       "ENSG00000283096            gene           1259  \n",
       "ENSG00000283103            gene           4467  \n",
       "ENSG00000283117            gene           3118  \n",
       "ENSG00000283118            gene            644  \n",
       "ENSG00000283125            gene            547  \n",
       "\n",
       "[32922 rows x 5 columns]"
      ]
     },
     "execution_count": 7,
     "metadata": {},
     "output_type": "execute_result"
    }
   ],
   "source": [
    "dataset_anndata.var"
   ]
  },
  {
   "cell_type": "code",
   "execution_count": 8,
   "id": "177763a4-07e6-4878-bb78-d569c8d3227a",
   "metadata": {},
   "outputs": [
    {
     "name": "stderr",
     "output_type": "stream",
     "text": [
      "/opt/conda/lib/python3.10/site-packages/anndata/_core/anndata.py:767: UserWarning: \n",
      "AnnData expects .var.index to contain strings, but got values like:\n",
      "    ['TSPAN6', 'TNMD', 'DPM1', 'SCYL3', 'C1orf112']\n",
      "\n",
      "    Inferred to be: categorical\n",
      "\n",
      "  value_idx = self._prep_dim_index(value.index, attr)\n"
     ]
    }
   ],
   "source": [
    "# If this is not the case, we copy the previous index and put it in a column to avoid losing information.\n",
    "dataset_anndata.var[\"index_column\"] = dataset_anndata.var.index\n",
    "\n",
    "# We repalce the column name by gene_name to be understood by scGPT\n",
    "dataset_anndata.var.rename(columns={\"feature_name\" : \"gene_name\"}, inplace=True)\n",
    "\n",
    "# Move the \"gene_name\" column to index. (This overwrites the previous column)\n",
    "dataset_anndata.var = dataset_anndata.var.set_index(\"gene_name\")\n",
    "\n",
    "# We also need the column gene_name inside the column and not only index\n",
    "dataset_anndata.var[\"gene_name\"] = dataset_anndata.var.index"
   ]
  },
  {
   "cell_type": "code",
   "execution_count": 11,
   "id": "a2f1956d-a843-457a-898e-7551ac11b2eb",
   "metadata": {},
   "outputs": [
    {
     "name": "stdout",
     "output_type": "stream",
     "text": [
      "Warning: The cell type megakaryocyte is removed from the dataset because it does not contain enough cells (40).\n"
     ]
    }
   ],
   "source": [
    "# Loop over the cell types to create fold groups in each of them\n",
    "for celltype in dataset_anndata.obs.celltype.unique():\n",
    "    # Retrieve the list of cells of the current cell type\n",
    "    cell_name_list = list(dataset_anndata.obs.index[dataset_anndata.obs.celltype == celltype])\n",
    "    # Monitors whether the number of cells within the cell type is sufficient\n",
    "    if len(cell_name_list) < MINIMAL_NUMBER_CELL_BY_TYPE :\n",
    "        # Remove the all the cell from the cell type\n",
    "        print(\"Warning: The cell type \", celltype, \" is removed from the dataset because it does not contain enough cells (\", MINIMAL_NUMBER_CELL_BY_TYPE, \").\", sep='')\n",
    "        dataset_anndata = dataset_anndata[~dataset_anndata.obs.celltype.str.contains(celltype)]"
   ]
  },
  {
   "cell_type": "code",
   "execution_count": null,
   "id": "ec0e4e7b-39e3-4962-baff-2efc168ff54f",
   "metadata": {},
   "outputs": [],
   "source": [
    "# We write a new file containing the pre-processed data with a clean Anndata. \n",
    "dataset_anndata.write_h5ad(PATH_OUTPUT_FILE_ANNDATA)"
   ]
  },
  {
   "cell_type": "markdown",
   "id": "85444da8-0126-41a2-bfdd-74b520c38bcc",
   "metadata": {},
   "source": [
    "## R MATRIX : For selection variable gene"
   ]
  },
  {
   "cell_type": "code",
   "execution_count": 15,
   "id": "bb48f8f5-c185-41b0-b63a-289e64f5af0d",
   "metadata": {},
   "outputs": [],
   "source": [
    "from scipy import io\n",
    "\n",
    "EXTRA_ANALYSIS_NAME_MATRIX = \"Matrix_Files\"\n",
    "PATH_OUTPUT_FILE_MATRIX = os.path.join(PATH_EXPERIMENT_OUTPUT, ANALYSIS_NAME, EXTRA_ANALYSIS_NAME_MATRIX)\n",
    "\n",
    "# Output path of the pre processed dataset\n",
    "os.makedirs(PATH_OUTPUT_FILE_MATRIX, exist_ok = True)"
   ]
  },
  {
   "cell_type": "code",
   "execution_count": 17,
   "id": "d5cc7fd0-f086-4c62-86e4-3193d4dd7fc7",
   "metadata": {},
   "outputs": [],
   "source": [
    "with open(os.path.join(PATH_OUTPUT_FILE_MATRIX) + '/barcodes.tsv', 'w') as f:\n",
    "    for item in dataset_anndata.obs_names:\n",
    "        f.write(item + '\\n')"
   ]
  },
  {
   "cell_type": "code",
   "execution_count": 18,
   "id": "7efa44ab-183e-4932-96de-c4189cc0fb99",
   "metadata": {},
   "outputs": [],
   "source": [
    "with open(os.path.join(PATH_OUTPUT_FILE_MATRIX) + '/features.tsv', 'w') as f:\n",
    "    for item in ['\\t'.join([x,x,'Gene Expression']) for x in dataset_anndata.var_names]:\n",
    "        f.write(item + '\\n')"
   ]
  },
  {
   "cell_type": "code",
   "execution_count": 19,
   "id": "1f50e147-c04f-436f-ac69-e9b4ec6dc479",
   "metadata": {},
   "outputs": [],
   "source": [
    "io.mmwrite(os.path.join(PATH_OUTPUT_FILE_MATRIX) + '/matrix.mtx', dataset_anndata.X.T)"
   ]
  },
  {
   "cell_type": "markdown",
   "id": "e5bec851-8fcd-4251-b514-079b0d78b57a",
   "metadata": {},
   "source": [
    "#### Need to do a gzip of every file currently in the reperotry (before enter the cell above) | (gzip root_file/Matrix_Files/*)"
   ]
  },
  {
   "cell_type": "code",
   "execution_count": 16,
   "id": "ec20cf66-e7ec-4382-9412-d795531f209b",
   "metadata": {},
   "outputs": [],
   "source": [
    "dataset_anndata.obs.to_csv(os.path.join(PATH_OUTPUT_FILE_MATRIX) + '/metadata.csv') "
   ]
  }
 ],
 "metadata": {
  "kernelspec": {
   "display_name": "Python 3 (ipykernel)",
   "language": "python",
   "name": "python3"
  },
  "language_info": {
   "codemirror_mode": {
    "name": "ipython",
    "version": 3
   },
   "file_extension": ".py",
   "mimetype": "text/x-python",
   "name": "python",
   "nbconvert_exporter": "python",
   "pygments_lexer": "ipython3",
   "version": "3.10.11"
  }
 },
 "nbformat": 4,
 "nbformat_minor": 5
}
